{
  "nbformat": 4,
  "nbformat_minor": 0,
  "metadata": {
    "accelerator": "GPU",
    "colab": {
      "name": "Copy of DCGAN_WS_2.ipynb",
      "provenance": [],
      "toc_visible": true,
      "include_colab_link": true
    },
    "kernelspec": {
      "display_name": "Python 3",
      "language": "python",
      "name": "python3"
    },
    "language_info": {
      "codemirror_mode": {
        "name": "ipython",
        "version": 3
      },
      "file_extension": ".py",
      "mimetype": "text/x-python",
      "name": "python",
      "nbconvert_exporter": "python",
      "pygments_lexer": "ipython3",
      "version": "3.6.7"
    }
  },
  "cells": [
    {
      "cell_type": "markdown",
      "metadata": {
        "id": "view-in-github",
        "colab_type": "text"
      },
      "source": [
        "<a href=\"https://colab.research.google.com/github/dwiggles/gans_workshop/blob/master/Copy_of_DCGAN_WS_2.ipynb\" target=\"_parent\"><img src=\"https://colab.research.google.com/assets/colab-badge.svg\" alt=\"Open In Colab\"/></a>"
      ]
    },
    {
      "cell_type": "code",
      "metadata": {
        "colab_type": "code",
        "id": "vwlL6TAcwlBY",
        "colab": {}
      },
      "source": [
        "%matplotlib inline\n",
        "from google.colab import drive\n",
        "drive.mount('/content/drive')\n"
      ],
      "execution_count": 0,
      "outputs": []
    },
    {
      "cell_type": "markdown",
      "metadata": {
        "colab_type": "text",
        "id": "z2xSsQz0Xaih"
      },
      "source": [
        "\n",
        "DCGAN Tutorial\n",
        "==============\n",
        "\n",
        "Credit to `Nathan Inkawhich <https://github.com/inkawhich>` for the original tutorial this is based on.\n",
        "\n",
        "\n"
      ]
    },
    {
      "cell_type": "code",
      "metadata": {
        "colab_type": "code",
        "id": "-7MSuQb3Xaij",
        "colab": {}
      },
      "source": [
        "from __future__ import print_function\n",
        "#%matplotlib inline\n",
        "import argparse\n",
        "import os\n",
        "import random\n",
        "import torch\n",
        "import torch.nn as nn\n",
        "import torch.nn.parallel\n",
        "import torch.nn.functional as F\n",
        "import torch.backends.cudnn as cudnn\n",
        "import torch.optim as optim\n",
        "import torch.utils.data\n",
        "import torchvision.datasets as dset\n",
        "import torchvision.transforms as transforms\n",
        "import torchvision.utils as vutils\n",
        "import numpy as np\n",
        "import matplotlib.pyplot as plt\n",
        "import matplotlib.animation as animation\n",
        "from IPython.display import HTML\n",
        "\n",
        "# Set random seem for reproducibility\n",
        "manualSeed = 999\n",
        "#manualSeed = random.randint(1, 10000) # use if you want new results\n",
        "print(\"Random Seed: \", manualSeed)\n",
        "random.seed(manualSeed)\n",
        "torch.manual_seed(manualSeed)"
      ],
      "execution_count": 0,
      "outputs": []
    },
    {
      "cell_type": "markdown",
      "metadata": {
        "colab_type": "text",
        "id": "UE4y8p7bXail"
      },
      "source": [
        "Inputs\n",
        "------\n",
        "\n",
        "Let’s define some inputs for the run:\n",
        "\n",
        "-  **dataroot** - the path to the root of the dataset folder. We will\n",
        "   talk more about the dataset in the next section\n",
        "-  **workers** - the number of worker threads for loading the data with\n",
        "   the DataLoader\n",
        "-  **batch_size** - the batch size used in training. The DCGAN paper\n",
        "   uses a batch size of 128\n",
        "-  **image_size** - the spatial size of the images used for training.\n",
        "   This implementation defaults to 64x64. If another size is desired,\n",
        "   the structures of D and G must be changed. See\n",
        "   `here <https://github.com/pytorch/examples/issues/70>`__ for more\n",
        "   details\n",
        "-  **nc** - number of color channels in the input images. For color\n",
        "   images this is 3\n",
        "-  **nz** - length of latent vector\n",
        "-  **ngf** - relates to the depth of feature maps carried through the\n",
        "   generator\n",
        "-  **ndf** - sets the depth of feature maps propagated through the\n",
        "   discriminator\n",
        "-  **num_epochs** - number of training epochs to run. Training for\n",
        "   longer will probably lead to better results but will also take much\n",
        "   longer\n",
        "-  **lr** - learning rate for training. As described in the DCGAN paper,\n",
        "   this number should be 0.0002\n",
        "-  **beta1** - beta1 hyperparameter for Adam optimizers. As described in\n",
        "   paper, this number should be 0.5\n",
        "-  **ngpu** - number of GPUs available. If this is 0, code will run in\n",
        "   CPU mode. If this number is greater than 0 it will run on that number\n",
        "   of GPUs\n",
        "\n",
        "\n"
      ]
    },
    {
      "cell_type": "code",
      "metadata": {
        "colab_type": "code",
        "id": "285N2lASXaim",
        "colab": {}
      },
      "source": [
        "# Root directory for dataset\n",
        "dataroot = '/content/drive/My Drive/gans_workshop/fonts/sheets'\n",
        "\n",
        "# Number of workers for dataloader\n",
        "workers = 4\n",
        "\n",
        "# Batch size during training\n",
        "batch_size = 64\n",
        "\n",
        "# Spatial size of training images. All images will be resized to this\n",
        "#   size using a transformer.\n",
        "image_size = 64\n",
        "\n",
        "# Number of channels in the training images. For color images this is 3\n",
        "nc = 3\n",
        "\n",
        "# Size of z latent vector (i.e. size of generator input)\n",
        "nz = 100\n",
        "\n",
        "# Size of feature maps in generator\n",
        "ngf = 64\n",
        "\n",
        "# Size of feature maps in discriminator\n",
        "ndf = 64\n",
        "\n",
        "# Number of training epochs\n",
        "num_epochs = 5\n",
        "\n",
        "# Learning rate for optimizers\n",
        "lr = 0.0002\n",
        "\n",
        "# Beta1 hyperparam for Adam optimizers\n",
        "beta1 = 0.5\n",
        "\n",
        "# Number of GPUs available. Use 0 for CPU mode.\n",
        "ngpu = 1"
      ],
      "execution_count": 0,
      "outputs": []
    },
    {
      "cell_type": "code",
      "metadata": {
        "colab_type": "code",
        "id": "gMHwGM2JXaip",
        "colab": {}
      },
      "source": [
        "# We can use an image folder dataset the way we have it setup.\n",
        "# Create the dataset\n",
        "dataset = dset.ImageFolder(root=dataroot,\n",
        "                           transform=transforms.Compose([\n",
        "                               transforms.Resize(image_size),\n",
        "                               transforms.CenterCrop(image_size),\n",
        "                               transforms.ToTensor(),\n",
        "                               transforms.Normalize((0.5, 0.5, 0.5), (0.5, 0.5, 0.5)),\n",
        "                           ]))\n",
        "# Create the dataloader\n",
        "dataloader = torch.utils.data.DataLoader(dataset, batch_size=batch_size,\n",
        "                                         shuffle=True, num_workers=workers)\n",
        "\n",
        "# Decide which device we want to run on\n",
        "device = torch.device(\"cuda:0\" if (torch.cuda.is_available() and ngpu > 0) else \"cpu\")\n",
        "\n",
        "# Plot some training images\n",
        "real_batch = next(iter(dataloader))\n",
        "plt.figure(figsize=(8,8))\n",
        "plt.axis(\"off\")\n",
        "plt.title(\"Training Images\")\n",
        "plt.imshow(np.transpose(vutils.make_grid(real_batch[0].to(device)[:64], padding=2, normalize=True).cpu(),(1,2,0)))"
      ],
      "execution_count": 0,
      "outputs": []
    },
    {
      "cell_type": "markdown",
      "metadata": {
        "colab_type": "text",
        "id": "RorZ0YrLXair"
      },
      "source": [
        "Implementation\n",
        "--------------\n",
        "\n",
        "With our input parameters set and the dataset prepared, we can now get\n",
        "into the implementation. We will start with the weigth initialization\n",
        "strategy, then talk about the generator, discriminator, loss functions,\n",
        "and training loop in detail.\n",
        "\n",
        "Weight Initialization\n",
        "~~~~~~~~~~~~~~~~~~~~~\n",
        "\n",
        "From the DCGAN paper, the authors specify that all model weights shall\n",
        "be randomly initialized from a Normal distribution with mean=0,\n",
        "stdev=0.2. The ``weights_init`` function takes an initialized model as\n",
        "input and reinitializes all convolutional, convolutional-transpose, and\n",
        "batch normalization layers to meet this criteria. This function is\n",
        "applied to the models immediately after initialization.\n",
        "\n",
        "\n"
      ]
    },
    {
      "cell_type": "code",
      "metadata": {
        "colab_type": "code",
        "id": "2nrtid3SXais",
        "colab": {}
      },
      "source": [
        "# custom weights initialization called on netG and netD\n",
        "def weights_init(m):\n",
        "    classname = m.__class__.__name__\n",
        "    if classname.find('Conv') != -1:\n",
        "        nn.init.normal_(m.weight.data, 0.0, 0.02)\n",
        "    elif classname.find('BatchNorm') != -1:\n",
        "        nn.init.normal_(m.weight.data, 1.0, 0.02)\n",
        "        nn.init.constant_(m.bias.data, 0)"
      ],
      "execution_count": 0,
      "outputs": []
    },
    {
      "cell_type": "code",
      "metadata": {
        "colab_type": "code",
        "id": "TS_tL6xT4M57",
        "colab": {}
      },
      "source": [
        "def conv(in_channels, out_channels, kernel_size, stride=2, padding=1, batch_norm=True, init_zero_weights=False):\n",
        "    \"\"\"Creates a convolutional layer, with optional batch normalization.\n",
        "    \"\"\"\n",
        "    layers = []\n",
        "    conv_layer = nn.Conv2d(in_channels=in_channels, out_channels=out_channels, kernel_size=kernel_size, stride=stride, padding=padding, bias=False)\n",
        "    if init_zero_weights:\n",
        "        conv_layer.weight.data = torch.randn(out_channels, in_channels, kernel_size, kernel_size) * 0.001\n",
        "    layers.append(conv_layer)\n",
        "\n",
        "    if batch_norm:\n",
        "        layers.append(nn.BatchNorm2d(out_channels))\n",
        "    return nn.Sequential(*layers)"
      ],
      "execution_count": 0,
      "outputs": []
    },
    {
      "cell_type": "code",
      "metadata": {
        "colab_type": "code",
        "id": "l77MwixG4NyI",
        "colab": {}
      },
      "source": [
        "def deconv(in_channels, out_channels, kernel_size, stride=2, padding=1, batch_norm=True, bias=False):\n",
        "    \"\"\"Creates a transposed-convolutional layer, with optional batch normalization.\n",
        "    \"\"\"\n",
        "    layers = []\n",
        "    layers.append(nn.ConvTranspose2d(in_channels, out_channels, kernel_size, stride, padding, bias=bias))\n",
        "    if batch_norm:\n",
        "        layers.append(nn.BatchNorm2d(out_channels))\n",
        "    return nn.Sequential(*layers)"
      ],
      "execution_count": 0,
      "outputs": []
    },
    {
      "cell_type": "markdown",
      "metadata": {
        "colab_type": "text",
        "id": "cpzsP02iXaiu"
      },
      "source": [
        "Generator\n",
        "~~~~~~~~~\n",
        "\n",
        "The generator, $G$, is designed to map the latent space vector\n",
        "($z$) to data-space. Since our data are images, converting\n",
        "$z$ to data-space means ultimately creating a RGB image with the\n",
        "same size as the training images (i.e. 3x64x64). In practice, this is\n",
        "accomplished through a series of strided two dimensional convolutional\n",
        "transpose layers, each paired with a 2d batch norm layer and a relu\n",
        "activation. The output of the generator is fed through a tanh function\n",
        "to return it to the input data range of $[-1,1]$. It is worth\n",
        "noting the existence of the batch norm functions after the\n",
        "conv-transpose layers, as this is a critical contribution of the DCGAN\n",
        "paper. These layers help with the flow of gradients during training. An\n",
        "image of the generator from the DCGAN paper is shown below.\n",
        "\n",
        "\n",
        "\n"
      ]
    },
    {
      "cell_type": "code",
      "metadata": {
        "colab_type": "code",
        "id": "p2evP7iu6uKH",
        "colab": {}
      },
      "source": [
        "class Generator(nn.Module):\n",
        "    def __init__(self, ngpu):\n",
        "        super(Generator, self).__init__()\n",
        "        self.ngpu = ngpu\n",
        "        # Fill this in\n",
        "\n",
        "    def forward(self, input):\n",
        "        out = F.relu(self.convT1(input))\n",
        "        out = F.relu(self.convT2(out))\n",
        "        out = F.relu(self.convT3(out))\n",
        "        out = F.relu(self.convT4(out))\n",
        "\n",
        "        # What non-linearity on the output layer\n",
        "        #return ?(self.output(out))\n"
      ],
      "execution_count": 0,
      "outputs": []
    },
    {
      "cell_type": "code",
      "metadata": {
        "colab_type": "code",
        "id": "GZ-txF3MXaiv",
        "colab": {}
      },
      "source": [
        "#@title Generator Solution {display-mode: \"form\"}\n",
        "\"\"\"\n",
        "class Generator(nn.Module):\n",
        "    def __init__(self, ngpu):\n",
        "        super(Generator, self).__init__()\n",
        "        self.ngpu = ngpu\n",
        "        self.convT1 = deconv(nz, ngf*8, 4, 1, 0)\n",
        "        self.convT2 = deconv(ngf*8, ngf*4, 4, 2, 1)\n",
        "        self.convT3 = deconv(ngf*4, ngf*2, 4, 2, 1)\n",
        "        self.convT4 = deconv(ngf*2, ngf, 4, 2, 1)\n",
        "        self.output = deconv(ngf, nc, 4, 2, 1, batch_norm=False)\n",
        "\n",
        "    def forward(self, input):\n",
        "        out = F.relu(self.convT1(input), inplace=True)\n",
        "        out = F.relu(self.convT2(out), inplace=True)\n",
        "        out = F.relu(self.convT3(out), inplace=True)\n",
        "        out = F.relu(self.convT4(out), inplace=True)\n",
        "        return F.tanh(self.output(out))\n",
        "\"\"\""
      ],
      "execution_count": 0,
      "outputs": []
    },
    {
      "cell_type": "code",
      "metadata": {
        "colab_type": "code",
        "id": "nPnvsCgsXaiy",
        "colab": {}
      },
      "source": [
        "# Create the generator\n",
        "netG = Generator(ngpu).to(device)\n",
        "\n",
        "# Handle multi-gpu if desired\n",
        "if (device.type == 'cuda') and (ngpu > 1):\n",
        "    netG = nn.DataParallel(netG, list(range(ngpu)))\n",
        "\n",
        "# Apply the weights_init function to randomly initialize all weights\n",
        "#  to mean=0, stdev=0.2.\n",
        "netG.apply(weights_init)\n",
        "\n",
        "# Print the model\n",
        "print(netG)"
      ],
      "execution_count": 0,
      "outputs": []
    },
    {
      "cell_type": "markdown",
      "metadata": {
        "colab_type": "text",
        "id": "Yc8XqeGKXai1"
      },
      "source": [
        "Discriminator\n",
        "~~~~~~~~~~~~~\n",
        "\n",
        "As mentioned, the discriminator, $D$, is a binary classification\n",
        "network that takes an image as input and outputs a scalar probability\n",
        "that the input image is real (as opposed to fake). Here, $D$ takes\n",
        "a 3x64x64 input image, processes it through a series of Conv2d,\n",
        "BatchNorm2d, and LeakyReLU layers, and outputs the final probability\n",
        "through a Sigmoid activation function. This architecture can be extended\n",
        "with more layers if necessary for the problem, but there is significance\n",
        "to the use of the strided convolution, BatchNorm, and LeakyReLUs. The\n",
        "DCGAN paper mentions it is a good practice to use strided convolution\n",
        "rather than pooling to downsample because it lets the network learn its\n",
        "own pooling function. Also batch norm and leaky relu functions promote\n",
        "healthy gradient flow which is critical for the learning process of both\n",
        "$G$ and $D$.\n",
        "\n",
        "\n"
      ]
    },
    {
      "cell_type": "markdown",
      "metadata": {
        "colab_type": "text",
        "id": "rQ1tuX9FXai2"
      },
      "source": [
        "Discriminator Code\n",
        "\n"
      ]
    },
    {
      "cell_type": "code",
      "metadata": {
        "colab_type": "code",
        "id": "uTS9h3OW38_B",
        "colab": {}
      },
      "source": [
        "class Discriminator(nn.Module):\n",
        "    def __init__(self, ngpu):\n",
        "        super(Discriminator, self).__init__()\n",
        "        self.ngpu = ngpu\n",
        "        # Fill this in\n",
        "\n",
        "\n",
        "    def forward(self, input):\n",
        "        out = F.leaky_relu(self.conv1(input), inplace=True)\n",
        "        out = F.leaky_relu(self.conv2(out), inplace=True)\n",
        "        out = F.leaky_relu(self.conv3(out), inplace=True)\n",
        "        out = F.leaky_relu(self.conv4(out), inplace=True)\n",
        "        \n",
        "        # what does the return line look like?"
      ],
      "execution_count": 0,
      "outputs": []
    },
    {
      "cell_type": "code",
      "metadata": {
        "colab_type": "code",
        "id": "OF2V1S4KXai3",
        "colab": {}
      },
      "source": [
        "#@title Discriminator Solution {display-mode: \"form\"}\n",
        "\"\"\"\n",
        "class Discriminator(nn.Module):\n",
        "    def __init__(self, ngpu):\n",
        "        super(Discriminator, self).__init__()\n",
        "        self.ngpu = ngpu\n",
        "\n",
        "        self.conv1 = conv(nc, ndf, 4, 2, 1)\n",
        "        self.conv2 = conv(ndf, ndf * 2, 4, 2, 1)\n",
        "        self.conv3 = conv(ndf * 2, ndf * 4, 4, 2, 1)\n",
        "        self.conv4 = conv(ndf * 4, ndf * 8, 4, 2, 1)\n",
        "        self.output = conv(ndf * 8, 1, 4, 1, 0, batch_norm=False)\n",
        "\n",
        "    def forward(self, input):\n",
        "        out = F.leaky_relu(self.conv1(input), inplace=True)\n",
        "        out = F.leaky_relu(self.conv2(out), inplace=True)\n",
        "        out = F.leaky_relu(self.conv3(out), inplace=True)\n",
        "        out = F.leaky_relu(self.conv4(out), inplace=True)\n",
        "        return F.sigmoid(self.output(out))\n",
        "\"\"\""
      ],
      "execution_count": 0,
      "outputs": []
    },
    {
      "cell_type": "code",
      "metadata": {
        "colab_type": "code",
        "id": "mbU-mbx2Xai7",
        "colab": {}
      },
      "source": [
        "# Create the Discriminator\n",
        "netD = Discriminator(ngpu).to(device)\n",
        "\n",
        "# Handle multi-gpu if desired\n",
        "if (device.type == 'cuda') and (ngpu > 1):\n",
        "    netD = nn.DataParallel(netD, list(range(ngpu)))\n",
        "    \n",
        "# Apply the weights_init function to randomly initialize all weights\n",
        "#  to mean=0, stdev=0.2.\n",
        "netD.apply(weights_init)\n",
        "\n",
        "# Print the model\n",
        "print(netD)"
      ],
      "execution_count": 0,
      "outputs": []
    },
    {
      "cell_type": "markdown",
      "metadata": {
        "colab_type": "text",
        "id": "34tdAEFCXai9"
      },
      "source": [
        "Loss Functions and Optimizers\n",
        "~~~~~~~~~~~~~~~~~~~~~~~~~~~~~\n",
        "\n",
        "With $D$ and $G$ setup, we can specify how they learn\n",
        "through the loss functions and optimizers. We will use the Binary Cross\n",
        "Entropy loss\n",
        "function \n",
        "\n",
        "Next, we define our real label as 1 and the fake label as 0. These\n",
        "labels will be used when calculating the losses of $D$ and\n",
        "$G$, and this is also the convention used in the original GAN\n",
        "paper. Finally, we set up two separate optimizers, one for $D$ and\n",
        "one for $G$. As specified in the DCGAN paper, both are Adam\n",
        "optimizers with learning rate 0.0002 and Beta1 = 0.5. For keeping track\n",
        "of the generator’s learning progression, we will generate a fixed batch\n",
        "of latent vectors that are drawn from a Gaussian distribution\n",
        "(i.e. fixed_noise) . In the training loop, we will periodically input\n",
        "this fixed_noise into $G$, and over the iterations we will see\n",
        "images form out of the noise.\n",
        "\n",
        "\n"
      ]
    },
    {
      "cell_type": "code",
      "metadata": {
        "colab_type": "code",
        "id": "VN7uKRzCXai-",
        "colab": {}
      },
      "source": [
        "# Initialize BCELoss function\n",
        "criterion = nn.BCELoss()\n",
        "\n",
        "# Create batch of latent vectors that we will use to visualize\n",
        "#  the progression of the generator\n",
        "fixed_noise = torch.randn(64, nz, 1, 1, device=device)\n",
        "\n",
        "# Establish convention for real and fake labels during training\n",
        "real_label = 1\n",
        "fake_label = 0\n",
        "\n",
        "# Setup Adam optimizers for both G and D\n",
        "optimizerD = optim.Adam(netD.parameters(), lr=lr, betas=(beta1, 0.999))\n",
        "optimizerG = optim.Adam(netG.parameters(), lr=lr, betas=(beta1, 0.999))"
      ],
      "execution_count": 0,
      "outputs": []
    },
    {
      "cell_type": "code",
      "metadata": {
        "colab_type": "code",
        "id": "hv7toRQ4zJUQ",
        "colab": {}
      },
      "source": [
        "checkpoint_dir = '/content/drive/My Drive/gans_workshop/fonts/'\n",
        "\n",
        "def create_dir(directory):\n",
        "    \"\"\"Creates a directory if it does not already exist.\n",
        "    \"\"\"\n",
        "    if not os.path.exists(directory):\n",
        "        os.makedirs(directory)\n",
        "\n",
        "create_dir(checkpoint_dir)\n",
        "def checkpoint(iteration, G, D):\n",
        "    \"\"\"\n",
        "    Saves the parameters of the generator G and discriminator D.\n",
        "    \"\"\"\n",
        "    G_path = os.path.join(checkpoint_dir, 'G.pkl')\n",
        "    D_path = os.path.join(checkpoint_dir, 'D.pkl')\n",
        "    torch.save(G.state_dict(), G_path)\n",
        "    torch.save(D.state_dict(), D_path)\n",
        "\n",
        "def load_checkpoint(model, checkpoint_name):\n",
        "    model.load_state_dict(torch.load(os.path.join(checkpoint_dir, checkpoint_name)))"
      ],
      "execution_count": 0,
      "outputs": []
    },
    {
      "cell_type": "markdown",
      "metadata": {
        "colab_type": "text",
        "id": "FG0C5uFFXajA"
      },
      "source": [
        "Training\n",
        "~~~~~~~~\n",
        "\n",
        "Finally, now that we have all of the parts of the GAN framework defined,\n",
        "we can train it. Be mindful that training GANs is somewhat of an art\n",
        "form, as incorrect hyperparameter settings lead to mode collapse with\n",
        "little explanation of what went wrong. Here, we will closely follow\n",
        "Algorithm 1 from Goodfellow’s paper, while abiding by some of the best\n",
        "practices shown in `ganhacks <https://github.com/soumith/ganhacks>`__.\n",
        "Namely, we will “construct different mini-batches for real and fake”\n",
        "images, and also adjust G’s objective function to maximize\n",
        "$logD(G(z))$. Training is split up into two main parts. Part 1\n",
        "updates the Discriminator and Part 2 updates the Generator.\n",
        "\n",
        "**Part 1 - Train the Discriminator**\n",
        "\n",
        "Recall, the goal of training the discriminator is to maximize the\n",
        "probability of correctly classifying a given input as real or fake. In\n",
        "terms of Goodfellow, we wish to “update the discriminator by ascending\n",
        "its stochastic gradient”. Practically, we want to maximize\n",
        "$log(D(x)) + log(1-D(G(z)))$. Due to the separate mini-batch\n",
        "suggestion from ganhacks, we will calculate this in two steps. First, we\n",
        "will construct a batch of real samples from the training set, forward\n",
        "pass through $D$, calculate the loss ($log(D(x))$), then\n",
        "calculate the gradients in a backward pass. Secondly, we will construct\n",
        "a batch of fake samples with the current generator, forward pass this\n",
        "batch through $D$, calculate the loss ($log(1-D(G(z)))$),\n",
        "and *accumulate* the gradients with a backward pass. Now, with the\n",
        "gradients accumulated from both the all-real and all-fake batches, we\n",
        "call a step of the Discriminator’s optimizer.\n",
        "\n",
        "**Part 2 - Train the Generator**\n",
        "\n",
        "As stated in the original paper, we want to train the Generator by\n",
        "minimizing $log(1-D(G(z)))$ in an effort to generate better fakes.\n",
        "As mentioned, this was shown by Goodfellow to not provide sufficient\n",
        "gradients, especially early in the learning process. As a fix, we\n",
        "instead wish to maximize $log(D(G(z)))$. In the code we accomplish\n",
        "this by: classifying the Generator output from Part 1 with the\n",
        "Discriminator, computing G’s loss *using real labels as GT*, computing\n",
        "G’s gradients in a backward pass, and finally updating G’s parameters\n",
        "with an optimizer step. It may seem counter-intuitive to use the real\n",
        "labels as GT labels for the loss function, but this allows us to use the\n",
        "$log(x)$ part of the BCELoss (rather than the $log(1-x)$\n",
        "part) which is exactly what we want.\n",
        "\n",
        "Finally, we will do some statistic reporting and at the end of each\n",
        "epoch we will push our fixed_noise batch through the generator to\n",
        "visually track the progress of G’s training. The training statistics\n",
        "reported are:\n",
        "\n",
        "-  **Loss_D** - discriminator loss calculated as the sum of losses for\n",
        "   the all real and all fake batches ($log(D(x)) + log(D(G(z)))$).\n",
        "-  **Loss_G** - generator loss calculated as $log(D(G(z)))$\n",
        "-  **D(x)** - the average output (across the batch) of the discriminator\n",
        "   for the all real batch. This should start close to 1 then\n",
        "   theoretically converge to 0.5 when G gets better. Think about why\n",
        "   this is.\n",
        "-  **D(G(z))** - average discriminator outputs for the all fake batch.\n",
        "   The first number is before D is updated and the second number is\n",
        "   after D is updated. These numbers should start near 0 and converge to\n",
        "   0.5 as G gets better. Think about why this is.\n",
        "\n",
        "**Note:** This step might take a while, depending on how many epochs you\n",
        "run and if you removed some data from the dataset.\n",
        "\n",
        "\n"
      ]
    },
    {
      "cell_type": "code",
      "metadata": {
        "cellView": "both",
        "colab_type": "code",
        "id": "pVUWVHZ_AhV0",
        "colab": {}
      },
      "source": [
        "# Training Loop \n",
        "\n",
        "# Lists to keep track of progress\n",
        "img_list = []\n",
        "G_losses = []\n",
        "D_losses = []\n",
        "iters = 0\n",
        "\n",
        "print(\"Starting Training Loop...\")\n",
        "# For each epoch\n",
        "for epoch in range(num_epochs*25):\n",
        "    # For each batch in the dataloader\n",
        "    for i, data in enumerate(dataloader, 0):\n",
        "        \n",
        "        ############################\n",
        "        # (1) Update D network: maximize log(D(x)) + log(1 - D(G(z)))\n",
        "        ###########################\n",
        "        ## Train with all-real batch\n",
        "        netD.zero_grad()\n",
        "        # Format batch\n",
        "        real_cpu = data[0].to(device)\n",
        "        b_size = real_cpu.size(0)\n",
        "        label = torch.full((b_size,), real_label, device=device)\n",
        "        # Forward pass real batch through D\n",
        "        output = netD(real_cpu).view(-1)\n",
        "        # Calculate loss on all-real batch\n",
        "        errD_real = criterion(output, label)\n",
        "        # Calculate gradients for D in backward pass\n",
        "        errD_real.backward()\n",
        "        D_x = output.mean().item()\n",
        "\n",
        "        ## Train with all-fake batch\n",
        "        # Fill this in\n",
        "\n",
        "        ############################\n",
        "        # (2) Update G network: maximize log(D(G(z)))\n",
        "        ###########################\n",
        "        # Fill this in\n",
        "        \n",
        "        # Output training stats\n",
        "        if i % 50 == 0:\n",
        "            print('[%d/%d][%d/%d]\\tLoss_D: %.4f\\tLoss_G: %.4f\\tD(x): %.4f\\tD(G(z)): %.4f / %.4f'\n",
        "                  % (epoch, num_epochs, i, len(dataloader),\n",
        "                     errD.item(), errG.item(), D_x, D_G_z1, D_G_z2))\n",
        "        \n",
        "        # Save Losses for plotting later\n",
        "        G_losses.append(errG.item())\n",
        "        D_losses.append(errD.item())\n",
        "        \n",
        "        # Check how the generator is doing by saving G's output on fixed_noise\n",
        "        if (iters % 500 == 0) or ((epoch == num_epochs-1) and (i == len(dataloader)-1)):\n",
        "            with torch.no_grad():\n",
        "                fake = netG(fixed_noise).detach().cpu()\n",
        "            img_list.append(vutils.make_grid(fake, padding=2, normalize=True))\n",
        "            \n",
        "        iters += 1"
      ],
      "execution_count": 0,
      "outputs": []
    },
    {
      "cell_type": "code",
      "metadata": {
        "colab_type": "code",
        "id": "4VNExZLpXajB",
        "colab": {}
      },
      "source": [
        "#@title Training Loop Solution {display-mode: \"form\"}\n",
        "\n",
        "\n",
        "# Training Loop\n",
        "\"\"\"\n",
        "# Lists to keep track of progress\n",
        "img_list = []\n",
        "G_losses = []\n",
        "D_losses = []\n",
        "iters = 0\n",
        "\n",
        "print(\"Starting Training Loop...\")\n",
        "# For each epoch\n",
        "for epoch in range(num_epochs*25):\n",
        "    # For each batch in the dataloader\n",
        "    for i, data in enumerate(dataloader, 0):\n",
        "        \n",
        "        ############################\n",
        "        # (1) Update D network: maximize log(D(x)) + log(1 - D(G(z)))\n",
        "        ###########################\n",
        "        ## Train with all-real batch\n",
        "        netD.zero_grad()\n",
        "        # Format batch\n",
        "        real_cpu = data[0].to(device)\n",
        "        b_size = real_cpu.size(0)\n",
        "        label = torch.full((b_size,), real_label, device=device)\n",
        "        # Forward pass real batch through D\n",
        "        output = netD(real_cpu).view(-1)\n",
        "        # Calculate loss on all-real batch\n",
        "        errD_real = criterion(output, label)\n",
        "        # Calculate gradients for D in backward pass\n",
        "        errD_real.backward()\n",
        "        D_x = output.mean().item()\n",
        "\n",
        "        ## Train with all-fake batch\n",
        "        # Generate batch of latent vectors\n",
        "        noise = torch.randn(b_size, nz, 1, 1, device=device)\n",
        "        # Generate fake image batch with G\n",
        "        fake = netG(noise)\n",
        "        label.fill_(fake_label)\n",
        "        # Classify all fake batch with D\n",
        "        output = netD(fake.detach()).view(-1)\n",
        "        # Calculate D's loss on the all-fake batch\n",
        "        errD_fake = criterion(output, label)\n",
        "        # Calculate the gradients for this batch\n",
        "        errD_fake.backward()\n",
        "        D_G_z1 = output.mean().item()\n",
        "        # Add the gradients from the all-real and all-fake batches\n",
        "        errD = errD_real + errD_fake\n",
        "        # Update D\n",
        "        optimizerD.step()\n",
        "\n",
        "        ############################\n",
        "        # (2) Update G network: maximize log(D(G(z)))\n",
        "        ###########################\n",
        "        netG.zero_grad()\n",
        "        label.fill_(real_label)  # fake labels are real for generator cost\n",
        "        # Since we just updated D, perform another forward pass of all-fake batch through D\n",
        "        output = netD(fake).view(-1)\n",
        "        # Calculate G's loss based on this output\n",
        "        errG = criterion(output, label)\n",
        "        # Calculate gradients for G\n",
        "        errG.backward()\n",
        "        D_G_z2 = output.mean().item()\n",
        "        # Update G\n",
        "        optimizerG.step()\n",
        "        \n",
        "        # Output training stats\n",
        "        if i % 50 == 0:\n",
        "            print('[%d/%d][%d/%d]\\tLoss_D: %.4f\\tLoss_G: %.4f\\tD(x): %.4f\\tD(G(z)): %.4f / %.4f'\n",
        "                  % (epoch, num_epochs, i, len(dataloader),\n",
        "                     errD.item(), errG.item(), D_x, D_G_z1, D_G_z2))\n",
        "        \n",
        "        # Save Losses for plotting later\n",
        "        G_losses.append(errG.item())\n",
        "        D_losses.append(errD.item())\n",
        "        \n",
        "        # Check how the generator is doing by saving G's output on fixed_noise\n",
        "        if (iters % 500 == 0) or ((epoch == num_epochs-1) and (i == len(dataloader)-1)):\n",
        "            with torch.no_grad():\n",
        "                fake = netG(fixed_noise).detach().cpu()\n",
        "            img_list.append(vutils.make_grid(fake, padding=2, normalize=True))\n",
        "            \n",
        "        iters += 1\n",
        "\"\"\""
      ],
      "execution_count": 0,
      "outputs": []
    },
    {
      "cell_type": "markdown",
      "metadata": {
        "colab_type": "text",
        "id": "5pE-LFMaXajD"
      },
      "source": [
        "Results\n",
        "-------\n",
        "\n",
        "Finally, lets check out how we did. Here, we will look at three\n",
        "different results. First, we will see how D and G’s losses changed\n",
        "during training. Second, we will visualize G’s output on the fixed_noise\n",
        "batch for every epoch. And third, we will look at a batch of real data\n",
        "next to a batch of fake data from G.\n",
        "\n",
        "**Loss versus training iteration**\n",
        "\n",
        "Below is a plot of D & G’s losses versus training iterations.\n",
        "\n",
        "\n"
      ]
    },
    {
      "cell_type": "code",
      "metadata": {
        "colab_type": "code",
        "id": "NzVu8xHzXajD",
        "colab": {}
      },
      "source": [
        "plt.figure(figsize=(10,5))\n",
        "plt.title(\"Generator and Discriminator Loss During Training\")\n",
        "plt.plot(G_losses,label=\"G\")\n",
        "plt.plot(D_losses,label=\"D\")\n",
        "plt.xlabel(\"iterations\")\n",
        "plt.ylabel(\"Loss\")\n",
        "plt.legend()\n",
        "plt.show()"
      ],
      "execution_count": 0,
      "outputs": []
    },
    {
      "cell_type": "markdown",
      "metadata": {
        "colab_type": "text",
        "id": "MImSSGfQXajF"
      },
      "source": [
        "**Visualization of G’s progression**\n",
        "\n",
        "Remember how we saved the generator’s output on the fixed_noise batch\n",
        "after every epoch of training. Now, we can visualize the training\n",
        "progression of G with an animation. Press the play button to start the\n",
        "animation.\n",
        "\n",
        "\n"
      ]
    },
    {
      "cell_type": "code",
      "metadata": {
        "colab_type": "code",
        "id": "FhDnvwczXajG",
        "colab": {}
      },
      "source": [
        "#%%capture\n",
        "fig = plt.figure(figsize=(8,8))\n",
        "plt.axis(\"off\")\n",
        "ims = [[plt.imshow(np.transpose(i,(1,2,0)), animated=True)] for i in img_list]\n",
        "ani = animation.ArtistAnimation(fig, ims, interval=1000, repeat_delay=1000, blit=True)\n",
        "\n",
        "HTML(ani.to_jshtml())"
      ],
      "execution_count": 0,
      "outputs": []
    },
    {
      "cell_type": "markdown",
      "metadata": {
        "colab_type": "text",
        "id": "6bFwkXPAXajI"
      },
      "source": [
        "**Real Images vs. Fake Images**\n",
        "\n",
        "Finally, lets take a look at some real images and fake images side by\n",
        "side.\n",
        "\n",
        "\n"
      ]
    },
    {
      "cell_type": "code",
      "metadata": {
        "colab_type": "code",
        "id": "55eXB9kEXajI",
        "colab": {}
      },
      "source": [
        "# Grab a batch of real images from the dataloader\n",
        "real_batch = next(iter(dataloader))\n",
        "\n",
        "# Plot the real images\n",
        "plt.figure(figsize=(15,15))\n",
        "plt.subplot(1,2,1)\n",
        "plt.axis(\"off\")\n",
        "plt.title(\"Real Images\")\n",
        "plt.imshow(np.transpose(vutils.make_grid(real_batch[0].to(device)[:64], padding=5, normalize=True).cpu(),(1,2,0)))\n",
        "\n",
        "# Plot the fake images from the last epoch\n",
        "plt.subplot(1,2,2)\n",
        "plt.axis(\"off\")\n",
        "plt.title(\"Fake Images\")\n",
        "plt.imshow(np.transpose(img_list[-1],(1,2,0)))\n",
        "plt.show()"
      ],
      "execution_count": 0,
      "outputs": []
    },
    {
      "cell_type": "markdown",
      "metadata": {
        "colab_type": "text",
        "id": "MiY0WU564HNu"
      },
      "source": [
        "# Challenge Problems"
      ]
    },
    {
      "cell_type": "markdown",
      "metadata": {
        "colab_type": "text",
        "id": "xxDFWMSz4_xX"
      },
      "source": [
        "1. Given we're trying to optimize\n",
        "\n",
        "![alt text](https://drive.google.com/uc?export=download&id=1nmjs-A1qfGvwBGgJaEeaamxAQsYgwH6R)\n",
        "\n",
        "that for a fixed G the optimal D is:\n",
        "\n",
        "![alt text](https://drive.google.com/uc?export=download&id=1_LhG7Uk5AiW22_ZKzS5uP0oDTfSGFkgd)\n",
        "\n",
        "and that\n",
        "\n",
        "![alt text](https://drive.google.com/uc?export=download&id=13xMHb9jzqaoBvZD7UviYNPV7vC1KkXpt)\n",
        "\n",
        "Prove that the global minimum of the training criterion C(G) is achieved if and only if p_g = p_data. At that point C(G) is equal to -log(4)."
      ]
    },
    {
      "cell_type": "code",
      "metadata": {
        "colab_type": "code",
        "id": "fmT26pFv49cn",
        "colab": {}
      },
      "source": [
        "#@title Proof Solution Steps {display-mode: \"form\"}\n",
        "\n",
        "# Solution proof steps\n",
        "\n",
        "1. plug p_g(x) for p_data\n",
        "2. solve for C(G) at that point\n",
        "3. Take KL divergence of of optimal discriminator\n",
        "4. Observe that it is the Jensen-Shannon divergence so >= 0 for two distributions\n",
        "\n",
        "See https://srome.github.io/An-Annotated-Proof-of-Generative-Adversarial-Networks-with-Implementation-Notes/\n",
        "For an annotated proof."
      ],
      "execution_count": 0,
      "outputs": []
    },
    {
      "cell_type": "markdown",
      "metadata": {
        "colab_type": "text",
        "id": "wHNX5Wza4bWI"
      },
      "source": [
        "2. Interpolate through the generator's latent space and generate images to get a sense of the quality of your generator."
      ]
    },
    {
      "cell_type": "code",
      "metadata": {
        "colab_type": "code",
        "id": "1mB4WwB8_Ytj",
        "colab": {}
      },
      "source": [
        "#@title Interpolation solution {display-mode: \"form\"}\n",
        "\n",
        "imgs = []\n",
        "values = np.arange(0, 1, 1./64)\n",
        "for idx in range(nz):\n",
        "  z = np.random.uniform(-0.2, 0.2, size=(nz))\n",
        "  z_sample = np.tile(z, (64, 1))\n",
        "  for kdx, z in enumerate(z_sample):\n",
        "    z[idx] = values[kdx]\n",
        "  #print(\"z: \", z_sample.shape)\n",
        "  with torch.no_grad():\n",
        "    fake = netG(torch.from_numpy(z_sample.reshape((64, 100, 1, 1))).float().to(device)).detach().cpu()\n",
        "  imgs.append(vutils.make_grid(fake, padding=2, normalize=True))"
      ],
      "execution_count": 0,
      "outputs": []
    },
    {
      "cell_type": "code",
      "metadata": {
        "colab_type": "code",
        "id": "fGKA1v6NB5Yp",
        "colab": {}
      },
      "source": [
        "# Code to create an animation from your sampled interpolation\n",
        "\n",
        "#%%capture\n",
        "fig = plt.figure(figsize=(8,8))\n",
        "plt.axis(\"off\")\n",
        "ims = [[plt.imshow(np.transpose(i,(1,2,0)), animated=True)] for i in imgs[:25]]\n",
        "ani = animation.ArtistAnimation(fig, ims, interval=1000, repeat_delay=1000, blit=True)\n",
        "\n",
        "HTML(ani.to_jshtml())"
      ],
      "execution_count": 0,
      "outputs": []
    }
  ]
}